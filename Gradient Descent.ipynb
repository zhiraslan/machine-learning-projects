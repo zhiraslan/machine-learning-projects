{
 "cells": [
  {
   "cell_type": "markdown",
   "metadata": {},
   "source": [
    "**Градиентный спуск** применяется для линейной регрессии для нахождения весов вместо МНК, так как в классическом случае происходит умножение и обращение матриц. Перемножать матрицы в принципе трудоемкий процесс (для тех, что с тысячами, а то и с миллионами элементов, ваще жесть), а обратить вообще можно не каждую матрицу. Поэтому используется ГС - численное решение, позволяющее найти локальный минимум функции (нужно для минимизации функции потерь). Кстати, как я понял, именно этот метод используется в L1-регуляризации."
   ]
  },
  {
   "cell_type": "markdown",
   "metadata": {},
   "source": [
    "Итак:"
   ]
  },
  {
   "cell_type": "code",
   "execution_count": 1,
   "metadata": {},
   "outputs": [],
   "source": [
    "import pandas as pd\n",
    "import numpy as np\n",
    "from scipy.spatial import distance\n",
    "import random\n",
    "from sklearn.linear_model import LinearRegression, SGDRegressor\n",
    "from sklearn.metrics import mean_squared_error\n",
    "from sklearn.model_selection import train_test_split\n",
    "import matplotlib.pyplot as plt"
   ]
  },
  {
   "cell_type": "markdown",
   "metadata": {},
   "source": [
    "### 1"
   ]
  },
  {
   "cell_type": "code",
   "execution_count": 2,
   "metadata": {
    "scrolled": true
   },
   "outputs": [
    {
     "data": {
      "image/png": "[encoded data removed]",
      "text/plain": [
       "<Figure size 432x288 with 1 Axes>"
      ]
     },
     "metadata": {
      "needs_background": "light"
     },
     "output_type": "display_data"
    }
   ],
   "source": [
    "def gradient(X, y, w, alpha):\n",
    "    n = X.shape[0]\n",
    "    y_hat = X.dot(w.T)\n",
    "    error = y - y_hat\n",
    "    \n",
    "#     вот тут у нас и регуляризация - по L2-регрессии: мы берем квадрат нормы и дифференцируем его по весу, получается\n",
    "#     выражение 2*alpha*w, где alpha - гиперпараметр градиентного спуска\n",
    "    D = np.multiply(X, error).sum(axis=0)*(-2) / n + 2 * alpha * w\n",
    "    return D, error\n",
    "\n",
    "def eval_w_next(X, y, alpha, w_current):\n",
    "    D, error = gradient(X, y, w_current, alpha)\n",
    "    w_next = w_current - alpha * D\n",
    "    w_difference = distance.euclidean(w_current, w_next)\n",
    "    return (w_next, w_difference, D)\n",
    "\n",
    "def gradient_descent(X, y, alpha=0.008, eps=0.001):\n",
    "    m = X.shape[1]\n",
    "    w = np.random.random(m).reshape(1, -1)\n",
    "    w_next, w_difference, D = eval_w_next(X, y, alpha, w)\n",
    "    step = 0\n",
    "    while w_difference > eps:\n",
    "        w = w_next\n",
    "        w_next, w_difference, D = eval_w_next(X, y, alpha, w)\n",
    "        step += 1\n",
    "    return w\n",
    "\n",
    "df = pd.read_csv(\"non_linear.csv\")        \n",
    "df = df[(df.x_train > 1) & (df.x_train < 5)].copy()\n",
    "\n",
    "X = df['x_train'].values.reshape(-1, 1)\n",
    "n = X.shape[0]\n",
    "m = X.shape[1]\n",
    "X = np.hstack([np.ones(n).reshape(-1, 1), X])\n",
    "y = df[\"y_train\"].values.reshape(-1, 1)\n",
    "\n",
    "w = gradient_descent(X, df[\"y_train\"].values.reshape(-1, 1), alpha=0.008)\n",
    "\n",
    "X = df[\"x_train\"].values.reshape(-1, 1)\n",
    "y_pred = np.hstack([np.ones(X.size).reshape(-1, 1), X]).dot(w.T)\n",
    "\n",
    "# строим график\n",
    "plt.plot(X, y_pred, 'b--', alpha=0.5, label='manifold')\n",
    "plt.scatter(df['x_train'], df['y_train'], 40, 'g', 'o', alpha=0.8, label='data')\n",
    "plt.show()"
   ]
  },
  {
   "cell_type": "code",
   "execution_count": 1,
   "metadata": {},
   "outputs": [],
   "source": [
    "from sklearn.model_selection import train_test_split\n",
    "from sklearn.linear_model import Ridge, Lasso\n",
    "from sklearn.preprocessing import PolynomialFeatures"
   ]
  },
  {
   "cell_type": "markdown",
   "metadata": {},
   "source": [
    "### 2"
   ]
  },
  {
   "cell_type": "code",
   "execution_count": 30,
   "metadata": {},
   "outputs": [
    {
     "name": "stdout",
     "output_type": "stream",
     "text": [
      "[[ 0.00000000e+00  4.54261785e-01  3.41976832e-01  3.27582096e-02\n",
      "  -2.07134533e-01  3.63216319e-02  1.18194117e-02 -3.68031933e-03\n",
      "   2.63585522e-04]] [ 0.00000000e+00 -0.00000000e+00 -0.00000000e+00 -1.08299601e-02\n",
      " -9.52247249e-03  1.03490179e-03  1.87872250e-04  3.38785318e-06\n",
      " -2.14838285e-06]\n"
     ]
    },
    {
     "name": "stderr",
     "output_type": "stream",
     "text": [
      "C:\\Anaconda\\lib\\site-packages\\sklearn\\linear_model\\_coordinate_descent.py:476: ConvergenceWarning: Objective did not converge. You might want to increase the number of iterations. Duality gap: 3.7134369621139713, tolerance: 0.0024481555784964045\n",
      "  positive)\n"
     ]
    }
   ],
   "source": [
    "df = pd.read_csv(\"non_linear.csv\")\n",
    "X = df['x_train'].values.reshape(-1, 1)\n",
    "y = df[\"y_train\"].values.reshape(-1, 1)\n",
    "\n",
    "X_train, X_valid, y_train, y_valid = train_test_split(X, y, test_size=0.2, random_state=10)\n",
    "poly = PolynomialFeatures(degree=8)  # например, 8-я степень\n",
    "X_poly = poly.fit_transform(X_train)\n",
    "X_valid = poly.fit_transform(X_valid)\n",
    "\n",
    "model_Ridge = Ridge(alpha=0.8).fit(X_poly, y_train)\n",
    "y_pred_Ridge = model_Ridge.predict(X_valid)\n",
    "\n",
    "model_Lasso = Lasso(alpha=0.8).fit(X_poly, y_train)\n",
    "y_pred_Lasso = model_Lasso.predict(X_valid)\n",
    "\n",
    "w_Ridge = model_Ridge.coef_\n",
    "w_Lasso = model_Lasso.coef_\n",
    "print(w_Ridge, w_Lasso)"
   ]
  },
  {
   "cell_type": "code",
   "execution_count": 31,
   "metadata": {},
   "outputs": [
    {
     "data": {
      "image/png": "[encoded data removed]",
      "text/plain": [
       "<Figure size 432x288 with 1 Axes>"
      ]
     },
     "metadata": {
      "needs_background": "light"
     },
     "output_type": "display_data"
    },
    {
     "data": {
      "image/png": "[encoded data removed]",
      "text/plain": [
       "<Figure size 432x288 with 1 Axes>"
      ]
     },
     "metadata": {
      "needs_background": "light"
     },
     "output_type": "display_data"
    }
   ],
   "source": [
    "plt.bar(range(9), w_Ridge[0], color='orange')\n",
    "plt.title(\"Ridge coefficients\")\n",
    "plt.show()\n",
    "\n",
    "plt.bar(range(9), w_Lasso, color='blue')\n",
    "plt.title(\"Lasso coefficients\")\n",
    "plt.show()"
   ]
  },
  {
   "cell_type": "markdown",
   "metadata": {},
   "source": [
    "Как видим, лассо-регрессия обнулила некоторые коэффициенты, остальные также принимают крайне малые значения, в то время как в L2-регуляризации значимы все веса."
   ]
  },
  {
   "cell_type": "code",
   "execution_count": 53,
   "metadata": {},
   "outputs": [
    {
     "name": "stdout",
     "output_type": "stream",
     "text": [
      "48\n"
     ]
    },
    {
     "data": {
      "image/png": "[encoded data removed]",
      "text/plain": [
       "<Figure size 432x288 with 1 Axes>"
      ]
     },
     "metadata": {
      "needs_background": "light"
     },
     "output_type": "display_data"
    }
   ],
   "source": [
    "df = pd.read_csv(\"non_linear.csv\")\n",
    "X = df['x_train'].values.reshape(-1, 1)\n",
    "y = df[\"y_train\"]\n",
    "df = df[(df.x_train > 1) & (df.x_train < 5)].copy()\n",
    "\n",
    "X_train, X_valid, y_train, y_valid = train_test_split(X, y, test_size=0.2, random_state=10)\n",
    "\n",
    "model = SGDRegressor(learning_rate=\"constant\", eta0=0.009, fit_intercept=True, random_state=42)\n",
    "w_current = np.random.random(2)\n",
    "eps = 0.001\n",
    "w_diff = []\n",
    "mse = []\n",
    "\n",
    "for step in range(800):\n",
    "    model = model.partial_fit(X_train, y_train)\n",
    "    w_diff.append(distance.euclidean(w_current, model.coef_))\n",
    "    if w_diff[-1] < eps:\n",
    "        print(step)\n",
    "        break\n",
    "    mse.append(mean_squared_error(y_valid, model.predict(X_valid)))\n",
    "    w_current = model.coef_.copy()\n",
    "\n",
    "plt.plot(range(step), mse)\n",
    "plt.show()"
   ]
  },
  {
   "cell_type": "markdown",
   "metadata": {},
   "source": [
    "### 3"
   ]
  },
  {
   "cell_type": "code",
   "execution_count": 29,
   "metadata": {},
   "outputs": [
    {
     "name": "stdout",
     "output_type": "stream",
     "text": [
      "937\n"
     ]
    },
    {
     "data": {
      "image/png": "[encoded data removed]",
      "text/plain": [
       "<Figure size 432x288 with 1 Axes>"
      ]
     },
     "metadata": {
      "needs_background": "light"
     },
     "output_type": "display_data"
    },
    {
     "data": {
      "text/plain": [
       "0.35577370630426874"
      ]
     },
     "execution_count": 29,
     "metadata": {},
     "output_type": "execute_result"
    }
   ],
   "source": [
    "from sklearn.datasets import load_boston\n",
    "from sklearn.metrics import r2_score\n",
    "\n",
    "boston_dataset = load_boston()\n",
    "X = boston_dataset.data\n",
    "y = boston_dataset.target\n",
    "X_train, X_valid, y_train, y_valid = train_test_split(X, y, test_size=0.2, random_state=10)\n",
    "\n",
    "model = SGDRegressor(learning_rate=\"constant\", eta0=0.000001, fit_intercept=True, random_state=42)\n",
    "w_current = np.random.random(X.shape[1])\n",
    "eps = 0.001\n",
    "w_diff = []\n",
    "r2 = None\n",
    "r2 = []\n",
    "\n",
    "for step in range(1000):\n",
    "    model = model.partial_fit(X_train, y_train)\n",
    "    w_diff.append(distance.euclidean(w_current, model.coef_))\n",
    "    if w_diff[-1] < eps:\n",
    "        print(step)\n",
    "        break\n",
    "    r2.append(r2_score(y_valid, model.predict(X_valid)))\n",
    "    w_current = model.coef_.copy()\n",
    "\n",
    "if step == 999:\n",
    "    step = range(step+1)\n",
    "else:\n",
    "    step = range(step)\n",
    "    \n",
    "plt.plot(step, r2)\n",
    "plt.show()\n",
    "r2[-1]"
   ]
  },
  {
   "cell_type": "markdown",
   "metadata": {},
   "source": [
    "Как видим, при крайне малом шаге коэффициент детерминации все равно достаточно невелик."
   ]
  }
 ],
 "metadata": {
  "kernelspec": {
   "display_name": "Python 3",
   "language": "python",
   "name": "python3"
  },
  "language_info": {
   "codemirror_mode": {
    "name": "ipython",
    "version": 3
   },
   "file_extension": ".py",
   "mimetype": "text/x-python",
   "name": "python",
   "nbconvert_exporter": "python",
   "pygments_lexer": "ipython3",
   "version": "3.7.6"
  }
 },
 "nbformat": 4,
 "nbformat_minor": 4
}
