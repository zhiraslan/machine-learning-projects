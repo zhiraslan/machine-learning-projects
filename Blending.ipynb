{
 "cells": [
  {
   "cell_type": "code",
   "execution_count": 5,
   "metadata": {},
   "outputs": [],
   "source": [
    "from sklearn.neighbors import KNeighborsClassifier\n",
    "from sklearn.linear_model import LogisticRegression\n",
    "from sklearn.tree import DecisionTreeClassifier\n",
    "from sklearn.svm import SVC\n",
    "from xgboost import XGBClassifier\n",
    "from sklearn.model_selection import train_test_split\n",
    "from sklearn.metrics import roc_auc_score\n",
    "\n",
    "import pandas as pd\n",
    "import numpy as np"
   ]
  },
  {
   "cell_type": "code",
   "execution_count": 6,
   "metadata": {},
   "outputs": [],
   "source": [
    "titanic = pd.read_csv(\"titanic.csv\")\n",
    "targets = titanic.Survived\n",
    "data = titanic.drop(columns='Survived')\n",
    "\n",
    "X_train, X_test, y_train, y_test = train_test_split(data,\n",
    "                                                    targets,\n",
    "                                                    test_size=0.8, \n",
    "                                                    random_state=0)"
   ]
  },
  {
   "cell_type": "markdown",
   "metadata": {},
   "source": [
    "Так как нам нужно и обучить базовые алгоритмы на тренировочном сете и сделать на этих же данных предсказания для обучения мета-алгоритма, разделим тренировочнфе данные еще на 2 датасета: train и test."
   ]
  },
  {
   "cell_type": "code",
   "execution_count": 10,
   "metadata": {},
   "outputs": [],
   "source": [
    "train, valid, train_true, valid_true = train_test_split(data,\n",
    "                                                        targets,\n",
    "                                                        test_size=0.5, \n",
    "                                                        random_state=0)"
   ]
  },
  {
   "cell_type": "code",
   "execution_count": 32,
   "metadata": {},
   "outputs": [
    {
     "name": "stderr",
     "output_type": "stream",
     "text": [
      "C:\\Anaconda\\lib\\site-packages\\sklearn\\linear_model\\_logistic.py:940: ConvergenceWarning: lbfgs failed to converge (status=1):\n",
      "STOP: TOTAL NO. of ITERATIONS REACHED LIMIT.\n",
      "\n",
      "Increase the number of iterations (max_iter) or scale the data as shown in:\n",
      "    https://scikit-learn.org/stable/modules/preprocessing.html\n",
      "Please also refer to the documentation for alternative solver options:\n",
      "    https://scikit-learn.org/stable/modules/linear_model.html#logistic-regression\n",
      "  extra_warning_msg=_LOGISTIC_SOLVER_CONVERGENCE_MSG)\n"
     ]
    }
   ],
   "source": [
    "knn = KNeighborsClassifier(n_neighbors=3)\n",
    "knn_model = knn.fit(train, train_true)\n",
    "\n",
    "lr = LogisticRegression(random_state=17)\n",
    "lr_model = lr.fit(train, train_true)\n",
    "\n",
    "dtc = DecisionTreeClassifier(max_leaf_nodes=4, random_state=17)\n",
    "dtc_model = dtc.fit(train, train_true)\n",
    "\n",
    "svc = SVC(random_state=17)\n",
    "svc_model = svc.fit(train, train_true)"
   ]
  },
  {
   "cell_type": "markdown",
   "metadata": {},
   "source": [
    "Теперь получим предсказания моделей для второй части тренировочных данных - valid, заполним получившимися метрапризнакми матрицу для обучения мета-алгоритма и обучим его."
   ]
  },
  {
   "cell_type": "code",
   "execution_count": 15,
   "metadata": {},
   "outputs": [
    {
     "name": "stdout",
     "output_type": "stream",
     "text": [
      "0 auc: 0.7158054453599159\n",
      "1 auc: 0.7720348896348287\n",
      "2 auc: 0.7624563455735259\n",
      "3 auc: 0.6128403349947444\n"
     ]
    }
   ],
   "source": [
    "models = [knn_model, lr_model, dtc_model, svc_model]\n",
    "meta_mtrx = np.empty((valid.shape[0], len(models)))  #number of objs, 4 algos\n",
    "\n",
    "for n, model in enumerate(models):\n",
    "    meta_mtrx[:, n] = model.predict(valid)\n",
    "    predicted = model.predict(X_test)\n",
    "    print(f'{n} auc: {roc_auc_score(y_test, predicted)}')\n",
    "    \n",
    "meta = XGBClassifier(n_estimators=40)\n",
    "meta_model = meta.fit(meta_mtrx, valid_true)"
   ]
  },
  {
   "cell_type": "markdown",
   "metadata": {},
   "source": [
    "Получим метапризнаки базовых алгоритмов для тестовых данных, чтобы мета-алгоритм мог по ним сделать предсказания."
   ]
  },
  {
   "cell_type": "code",
   "execution_count": 25,
   "metadata": {},
   "outputs": [
    {
     "name": "stdout",
     "output_type": "stream",
     "text": [
      "Stacking AUC: 0.772195944800461\n"
     ]
    }
   ],
   "source": [
    "meta_mtrx_test = np.empty((X_test.shape[0], len(models)))\n",
    "\n",
    "for n, model in enumerate(models):\n",
    "    meta_mtrx_test[:, n] = model.predict(X_test)\n",
    "    \n",
    "meta_predict = meta.predict(meta_mtrx_test)\n",
    "print(f'Stacking AUC: {roc_auc_score(y_test, meta_predict)}')"
   ]
  },
  {
   "cell_type": "markdown",
   "metadata": {},
   "source": [
    "Как мы видим, в этом случае финальный скор АUC не превышает рез-т лучших базовых алгов. Попробуем убрать 2 лучших базовых алга, посмотрим, что получится."
   ]
  },
  {
   "cell_type": "code",
   "execution_count": 27,
   "metadata": {},
   "outputs": [
    {
     "name": "stdout",
     "output_type": "stream",
     "text": [
      "0 auc: 0.7158054453599159\n",
      "1 auc: 0.6128403349947444\n",
      "Stacking AUC: 0.7224977113213304\n"
     ]
    }
   ],
   "source": [
    "models = [knn_model, svc_model]\n",
    "meta_mtrx = np.empty((valid.shape[0], len(models)))  #number of objs, 2 algos\n",
    "\n",
    "for n, model in enumerate(models):\n",
    "    meta_mtrx[:, n] = model.predict(valid)\n",
    "    predicted = model.predict(X_test)\n",
    "    print(f'{n} auc: {roc_auc_score(y_test, predicted)}')\n",
    "    \n",
    "meta = XGBClassifier(n_estimators=40)\n",
    "meta_model = meta.fit(meta_mtrx, valid_true)\n",
    "\n",
    "meta_mtrx_test = np.empty((X_test.shape[0], len(models)))\n",
    "\n",
    "for n, model in enumerate(models):\n",
    "    meta_mtrx_test[:, n] = model.predict(X_test)\n",
    "    \n",
    "meta_predict = meta.predict(meta_mtrx_test)\n",
    "print(f'Stacking AUC: {roc_auc_score(y_test, meta_predict)}')"
   ]
  },
  {
   "cell_type": "markdown",
   "metadata": {},
   "source": [
    "А здесь видно, что стекинг 2-ух не самых лучших алгов дает рез-т лучше, чем каждый из них по отдельности.\n",
    "Поэтому не всегда построение ансамбля улучшает эффективность алгоритма, все-таки, стекинг - это не панацея.\n",
    "Тем более, что ансамбль и вычислительнее более сложный, и поддерживается сложнее."
   ]
  }
 ],
 "metadata": {
  "kernelspec": {
   "display_name": "Python 3",
   "language": "python",
   "name": "python3"
  },
  "language_info": {
   "codemirror_mode": {
    "name": "ipython",
    "version": 3
   },
   "file_extension": ".py",
   "mimetype": "text/x-python",
   "name": "python",
   "nbconvert_exporter": "python",
   "pygments_lexer": "ipython3",
   "version": "3.7.6"
  }
 },
 "nbformat": 4,
 "nbformat_minor": 4
}
